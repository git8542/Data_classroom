{
 "cells": [
  {
   "cell_type": "markdown",
   "metadata": {},
   "source": [
    "### https://www.jiqizhixin.com/articles/2018-03-05-3"
   ]
  },
  {
   "cell_type": "code",
   "execution_count": 69,
   "metadata": {
    "collapsed": true
   },
   "outputs": [],
   "source": [
    "import pandas as pd"
   ]
  },
  {
   "cell_type": "code",
   "execution_count": 70,
   "metadata": {},
   "outputs": [
    {
     "name": "stderr",
     "output_type": "stream",
     "text": [
      "F:\\Anaconda\\lib\\site-packages\\IPython\\core\\interactiveshell.py:2698: DtypeWarning: Columns (4) have mixed types. Specify dtype option on import or set low_memory=False.\n",
      "  interactivity=interactivity, compiler=compiler, result=result)\n"
     ]
    },
    {
     "data": {
      "text/html": [
       "<div>\n",
       "<style>\n",
       "    .dataframe thead tr:only-child th {\n",
       "        text-align: right;\n",
       "    }\n",
       "\n",
       "    .dataframe thead th {\n",
       "        text-align: left;\n",
       "    }\n",
       "\n",
       "    .dataframe tbody tr th {\n",
       "        vertical-align: top;\n",
       "    }\n",
       "</style>\n",
       "<table border=\"1\" class=\"dataframe\">\n",
       "  <thead>\n",
       "    <tr style=\"text-align: right;\">\n",
       "      <th></th>\n",
       "      <th>Complaint ID</th>\n",
       "      <th>Product</th>\n",
       "      <th>Sub-product</th>\n",
       "      <th>Issue</th>\n",
       "      <th>Sub-issue</th>\n",
       "      <th>State</th>\n",
       "      <th>ZIP code</th>\n",
       "      <th>Submitted via</th>\n",
       "      <th>Date received</th>\n",
       "      <th>Date sent to company</th>\n",
       "      <th>Company</th>\n",
       "      <th>Company response</th>\n",
       "      <th>Timely response?</th>\n",
       "      <th>Consumer disputed?</th>\n",
       "    </tr>\n",
       "  </thead>\n",
       "  <tbody>\n",
       "    <tr>\n",
       "      <th>0</th>\n",
       "      <td>1114245</td>\n",
       "      <td>Debt collection</td>\n",
       "      <td>Medical</td>\n",
       "      <td>Disclosure verification of debt</td>\n",
       "      <td>Not given enough info to verify debt</td>\n",
       "      <td>FL</td>\n",
       "      <td>32219.0</td>\n",
       "      <td>Web</td>\n",
       "      <td>11/13/2014</td>\n",
       "      <td>11/13/2014</td>\n",
       "      <td>Choice Recovery, Inc.</td>\n",
       "      <td>Closed with explanation</td>\n",
       "      <td>Yes</td>\n",
       "      <td>NaN</td>\n",
       "    </tr>\n",
       "    <tr>\n",
       "      <th>1</th>\n",
       "      <td>1114488</td>\n",
       "      <td>Debt collection</td>\n",
       "      <td>Medical</td>\n",
       "      <td>Disclosure verification of debt</td>\n",
       "      <td>Right to dispute notice not received</td>\n",
       "      <td>TX</td>\n",
       "      <td>75006.0</td>\n",
       "      <td>Web</td>\n",
       "      <td>11/13/2014</td>\n",
       "      <td>11/13/2014</td>\n",
       "      <td>Expert Global Solutions, Inc.</td>\n",
       "      <td>In progress</td>\n",
       "      <td>Yes</td>\n",
       "      <td>NaN</td>\n",
       "    </tr>\n",
       "    <tr>\n",
       "      <th>2</th>\n",
       "      <td>1114255</td>\n",
       "      <td>Bank account or service</td>\n",
       "      <td>Checking account</td>\n",
       "      <td>Deposits and withdrawals</td>\n",
       "      <td>NaN</td>\n",
       "      <td>NY</td>\n",
       "      <td>11102.0</td>\n",
       "      <td>Web</td>\n",
       "      <td>11/13/2014</td>\n",
       "      <td>11/13/2014</td>\n",
       "      <td>FNIS (Fidelity National Information Services, ...</td>\n",
       "      <td>In progress</td>\n",
       "      <td>Yes</td>\n",
       "      <td>NaN</td>\n",
       "    </tr>\n",
       "    <tr>\n",
       "      <th>3</th>\n",
       "      <td>1115106</td>\n",
       "      <td>Debt collection</td>\n",
       "      <td>Other (phone, health club, etc.)</td>\n",
       "      <td>Communication tactics</td>\n",
       "      <td>Frequent or repeated calls</td>\n",
       "      <td>GA</td>\n",
       "      <td>31721.0</td>\n",
       "      <td>Web</td>\n",
       "      <td>11/13/2014</td>\n",
       "      <td>11/13/2014</td>\n",
       "      <td>Expert Global Solutions, Inc.</td>\n",
       "      <td>In progress</td>\n",
       "      <td>Yes</td>\n",
       "      <td>NaN</td>\n",
       "    </tr>\n",
       "    <tr>\n",
       "      <th>4</th>\n",
       "      <td>1115890</td>\n",
       "      <td>Credit reporting</td>\n",
       "      <td>NaN</td>\n",
       "      <td>Incorrect information on credit report</td>\n",
       "      <td>Information is not mine</td>\n",
       "      <td>FL</td>\n",
       "      <td>33461.0</td>\n",
       "      <td>Web</td>\n",
       "      <td>11/12/2014</td>\n",
       "      <td>11/13/2014</td>\n",
       "      <td>TransUnion</td>\n",
       "      <td>In progress</td>\n",
       "      <td>Yes</td>\n",
       "      <td>NaN</td>\n",
       "    </tr>\n",
       "  </tbody>\n",
       "</table>\n",
       "</div>"
      ],
      "text/plain": [
       "   Complaint ID                  Product                       Sub-product  \\\n",
       "0       1114245          Debt collection                           Medical   \n",
       "1       1114488          Debt collection                           Medical   \n",
       "2       1114255  Bank account or service                  Checking account   \n",
       "3       1115106          Debt collection  Other (phone, health club, etc.)   \n",
       "4       1115890         Credit reporting                               NaN   \n",
       "\n",
       "                                    Issue  \\\n",
       "0         Disclosure verification of debt   \n",
       "1         Disclosure verification of debt   \n",
       "2                Deposits and withdrawals   \n",
       "3                   Communication tactics   \n",
       "4  Incorrect information on credit report   \n",
       "\n",
       "                              Sub-issue State  ZIP code Submitted via  \\\n",
       "0  Not given enough info to verify debt    FL   32219.0           Web   \n",
       "1  Right to dispute notice not received    TX   75006.0           Web   \n",
       "2                                   NaN    NY   11102.0           Web   \n",
       "3            Frequent or repeated calls    GA   31721.0           Web   \n",
       "4               Information is not mine    FL   33461.0           Web   \n",
       "\n",
       "  Date received Date sent to company  \\\n",
       "0    11/13/2014           11/13/2014   \n",
       "1    11/13/2014           11/13/2014   \n",
       "2    11/13/2014           11/13/2014   \n",
       "3    11/13/2014           11/13/2014   \n",
       "4    11/12/2014           11/13/2014   \n",
       "\n",
       "                                             Company         Company response  \\\n",
       "0                              Choice Recovery, Inc.  Closed with explanation   \n",
       "1                      Expert Global Solutions, Inc.              In progress   \n",
       "2  FNIS (Fidelity National Information Services, ...              In progress   \n",
       "3                      Expert Global Solutions, Inc.              In progress   \n",
       "4                                         TransUnion              In progress   \n",
       "\n",
       "  Timely response? Consumer disputed?  \n",
       "0              Yes                NaN  \n",
       "1              Yes                NaN  \n",
       "2              Yes                NaN  \n",
       "3              Yes                NaN  \n",
       "4              Yes                NaN  "
      ]
     },
     "execution_count": 70,
     "metadata": {},
     "output_type": "execute_result"
    }
   ],
   "source": [
    "df = pd.read_csv(\"Consumer_Complaints.csv\")\n",
    "df.head()"
   ]
  },
  {
   "cell_type": "code",
   "execution_count": 71,
   "metadata": {},
   "outputs": [],
   "source": [
    "from io import StringIO\n",
    "\n",
    "col = [\"Product\", \"Sub-issue\"]\n",
    "df = df[col]\n",
    "df = df[pd.notnull(df[\"Sub-issue\"])]\n",
    "df.columns = [\"Product\", \"Sub_issue\"]"
   ]
  },
  {
   "cell_type": "code",
   "execution_count": 72,
   "metadata": {},
   "outputs": [
    {
     "data": {
      "text/plain": [
       "array(['Debt collection', 'Credit reporting'], dtype=object)"
      ]
     },
     "execution_count": 72,
     "metadata": {},
     "output_type": "execute_result"
    }
   ],
   "source": [
    "df[\"category_id\"] = df[\"Product\"].factorize()[0]\n",
    "category_id_df = df[[\"Product\", \"category_id\"]].drop_duplicates().sort_values(\"category_id\")\n",
    "category_to_id = dict(category_id_df.values)\n",
    "id_to_category = dict(category_id_df[[\"category_id\", \"Product\"]].values)\n",
    "df[\"Product\"].unique()"
   ]
  },
  {
   "cell_type": "code",
   "execution_count": 73,
   "metadata": {},
   "outputs": [
    {
     "data": {
      "image/png": "[encoded data removed]",
      "text/plain": [
       "<matplotlib.figure.Figure at 0x232433af748>"
      ]
     },
     "metadata": {},
     "output_type": "display_data"
    }
   ],
   "source": [
    "import matplotlib.pyplot as plt\n",
    "\n",
    "fig = plt.figure(figsize=(8,6))\n",
    "df.groupby(\"Product\")[\"Sub_issue\"].count().plot.bar(ylim=0)\n",
    "plt.show()"
   ]
  },
  {
   "cell_type": "code",
   "execution_count": 74,
   "metadata": {
    "collapsed": true
   },
   "outputs": [],
   "source": [
    "from sklearn.feature_extraction.text import TfidfVectorizer"
   ]
  },
  {
   "cell_type": "markdown",
   "metadata": {},
   "source": [
    "\n",
    "### sublinear_df 设为 True 从而使用频率的对数形式。\n",
    "\n",
    "### min_df 是单词必须存在的最小文档数量。\n",
    "\n",
    "### norm 设为 l2，以确保我们所有特征向量的欧几里德范数为 1。\n",
    "\n",
    "### ngram_range 设为 (1, 2)，表示我们想要考虑 unigrams 和 bigrams。\n",
    "\n",
    "### stop_words 设为 \"english\" 来删除所有常用代词 (\"a\", \"the\", ...) 以减少噪音特征的数量。"
   ]
  },
  {
   "cell_type": "code",
   "execution_count": 81,
   "metadata": {},
   "outputs": [
    {
     "data": {
      "text/plain": [
       "(85586, 220)"
      ]
     },
     "execution_count": 81,
     "metadata": {},
     "output_type": "execute_result"
    }
   ],
   "source": [
    "tfidf = TfidfVectorizer(sublinear_tf=True, min_df=5, norm=\"l2\",\n",
    "                       encoding=\"latin-1\", ngram_range=(1,2), stop_words=\"english\")\n",
    "\n",
    "features = tfidf.fit_transform(df[\"Sub_issue\"]).toarray()\n",
    "labels = df.category_id\n",
    "features.shape"
   ]
  },
  {
   "cell_type": "code",
   "execution_count": 82,
   "metadata": {
    "collapsed": true
   },
   "outputs": [],
   "source": [
    "from sklearn.feature_selection import chi2\n",
    "import numpy as np"
   ]
  },
  {
   "cell_type": "code",
   "execution_count": 116,
   "metadata": {},
   "outputs": [
    {
     "name": "stdout",
     "output_type": "stream",
     "text": [
      "# 'Credit reporting:'\n",
      ". Most  correlated unigrams:\n",
      ". information\n",
      ".debt\n",
      ". Most correlated bingrams:\n",
      ". debt paid\n",
      ".account status\n",
      "# 'Debt collection:'\n",
      ". Most  correlated unigrams:\n",
      ". information\n",
      ".debt\n",
      ". Most correlated bingrams:\n",
      ". debt paid\n",
      ".account status\n"
     ]
    }
   ],
   "source": [
    "N = 2\n",
    "\n",
    "for Product, category_id in sorted(category_to_id.items()):\n",
    "    \n",
    "    features_chi2 = chi2(features, labels==category_id)\n",
    "    indices = np.argsort(features_chi2[0])\n",
    "    feature_names = np.array(tfidf.get_feature_names())[indices]\n",
    "    unigrams = [v for v in feature_names if len(v.split(\" \")) == 1]\n",
    "    bingrams = [v for v in feature_names if len(v.split(\" \")) == 2]\n",
    "    print(\"# '{}:'\".format(Product))\n",
    "    print(\". Most  correlated unigrams:\\n. {}\".format(\"\\n.\".join(unigrams[-N:])))\n",
    "    print(\". Most correlated bingrams:\\n. {}\".format(\"\\n.\".join(bingrams[-N:])))\n",
    "    "
   ]
  },
  {
   "cell_type": "code",
   "execution_count": 97,
   "metadata": {
    "collapsed": true
   },
   "outputs": [],
   "source": [
    "from sklearn.model_selection import train_test_split\n",
    "from sklearn.feature_extraction.text import CountVectorizer\n",
    "from sklearn.feature_extraction.text import TfidfTransformer\n",
    "from sklearn.naive_bayes import MultinomialNB\n",
    "\n",
    "X_train, X_test, y_train, y_test = train_test_split(df[\"Sub_issue\"], df[\"Product\"], random_state=0)\n",
    "\n",
    "count_vect = CountVectorizer()\n",
    "X_train_counts = count_vect.fit_transform(X_train)\n",
    "\n",
    "tfidf_transformer = TfidfTransformer()\n",
    "X_train_tfidf = tfidf_transformer.fit_transform(X_train_counts)\n",
    "\n",
    "clf = MultinomialNB().fit(X_train_tfidf, y_train)\n"
   ]
  },
  {
   "cell_type": "code",
   "execution_count": 100,
   "metadata": {},
   "outputs": [
    {
     "name": "stdout",
     "output_type": "stream",
     "text": [
      "['Debt collection']\n"
     ]
    }
   ],
   "source": [
    "print(clf.predict(count_vect.transform([\"This company refuses to provide me\\\n",
    "                                        verification and validation of debt per my right under the FDCPA.\\\n",
    "                                        I do not believe this debt is mine\"])))\n",
    "                                        "
   ]
  },
  {
   "cell_type": "code",
   "execution_count": 102,
   "metadata": {},
   "outputs": [
    {
     "data": {
      "image/png": "[encoded data removed]",
      "text/plain": [
       "<matplotlib.figure.Figure at 0x2324c477d30>"
      ]
     },
     "metadata": {},
     "output_type": "display_data"
    }
   ],
   "source": [
    "from sklearn.linear_model import LogisticRegression\n",
    "from sklearn.ensemble import RandomForestClassifier\n",
    "from sklearn.svm import LinearSVC\n",
    "from sklearn.model_selection import cross_val_score\n",
    "\n",
    "models = [\n",
    "    RandomForestClassifier(n_estimators=200, max_depth=3, random_state=0),\n",
    "    LinearSVC(),\n",
    "    MultinomialNB(),\n",
    "    LogisticRegression(random_state=0)\n",
    "]\n",
    "\n",
    "CV = 5\n",
    "cv_df = pd.DataFrame(index=range(CV * len(models)))\n",
    "entries = []\n",
    "for model in models:\n",
    "    model_name = model.__class__.__name__\n",
    "    accuracies = cross_val_score(model, features, labels, scoring=\"accuracy\", cv=CV)\n",
    "    for fold_idx, accuracy in enumerate(accuracies):\n",
    "        entries.append((model_name, fold_idx, accuracy))\n",
    "\n",
    "cv_df = pd.DataFrame(entries, columns=[\"model_name\", \"fold_idx\", \"accuracy\"])\n",
    "\n",
    "import seaborn as sns\n",
    "sns.boxplot(x=\"model_name\", y=\"accuracy\", data=cv_df)\n",
    "sns.stripplot(x=\"model_name\", y=\"accuracy\", data=cv_df,\n",
    "             size=8, jitter=True, edgecolor=\"gray\", linewidth=2)\n",
    "plt.show()"
   ]
  },
  {
   "cell_type": "code",
   "execution_count": 103,
   "metadata": {},
   "outputs": [
    {
     "data": {
      "text/plain": [
       "model_name\n",
       "LinearSVC                 1.000000\n",
       "LogisticRegression        1.000000\n",
       "MultinomialNB             1.000000\n",
       "RandomForestClassifier    0.973465\n",
       "Name: accuracy, dtype: float64"
      ]
     },
     "execution_count": 103,
     "metadata": {},
     "output_type": "execute_result"
    }
   ],
   "source": [
    "cv_df.groupby(\"model_name\").accuracy.mean()"
   ]
  },
  {
   "cell_type": "code",
   "execution_count": 104,
   "metadata": {},
   "outputs": [
    {
     "data": {
      "image/png": "[encoded data removed]",
      "text/plain": [
       "<matplotlib.figure.Figure at 0x2324bf28f98>"
      ]
     },
     "metadata": {},
     "output_type": "display_data"
    }
   ],
   "source": [
    "model = LinearSVC()\n",
    "X_train, X_test, y_train, y_test, indices_train, indices_test = train_test_split(\n",
    "                    features, labels, df.index, test_size=0.33,random_state=0)\n",
    "model.fit(X_train, y_train)\n",
    "y_pred = model.predict(X_test)\n",
    "\n",
    "from sklearn.metrics import confusion_matrix\n",
    "conf_mat = confusion_matrix(y_test, y_pred)\n",
    "fig, ax = plt.subplots(figsize=(10,10))\n",
    "sns.heatmap(conf_mat, annot=True, fmt=\"d\",\n",
    "           xticklabels=category_id_df.Product.values, yticklabels=category_id_df.Product.values)\n",
    "plt.xlabel(\"Actual\")\n",
    "plt.ylabel(\"predicted\")\n",
    "plt.show()"
   ]
  },
  {
   "cell_type": "code",
   "execution_count": 105,
   "metadata": {},
   "outputs": [
    {
     "name": "stdout",
     "output_type": "stream",
     "text": [
      "                  precision    recall  f1-score   support\n",
      "\n",
      " Debt collection       1.00      1.00      1.00     14614\n",
      "Credit reporting       1.00      1.00      1.00     13630\n",
      "\n",
      "     avg / total       1.00      1.00      1.00     28244\n",
      "\n"
     ]
    }
   ],
   "source": [
    "from sklearn import metrics\n",
    "print(metrics.classification_report(y_test, y_pred, target_names=df['Product'].unique()))"
   ]
  },
  {
   "cell_type": "code",
   "execution_count": null,
   "metadata": {
    "collapsed": true
   },
   "outputs": [],
   "source": []
  },
  {
   "cell_type": "code",
   "execution_count": null,
   "metadata": {},
   "outputs": [],
   "source": []
  },
  {
   "cell_type": "code",
   "execution_count": null,
   "metadata": {
    "collapsed": true
   },
   "outputs": [],
   "source": []
  }
 ],
 "metadata": {
  "kernelspec": {
   "display_name": "Python 3",
   "language": "python",
   "name": "python3"
  },
  "language_info": {
   "codemirror_mode": {
    "name": "ipython",
    "version": 3
   },
   "file_extension": ".py",
   "mimetype": "text/x-python",
   "name": "python",
   "nbconvert_exporter": "python",
   "pygments_lexer": "ipython3",
   "version": "3.6.2"
  }
 },
 "nbformat": 4,
 "nbformat_minor": 2
}
