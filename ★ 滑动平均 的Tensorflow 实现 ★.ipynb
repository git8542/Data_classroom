{
 "cells": [
  {
   "cell_type": "code",
   "execution_count": 1,
   "metadata": {
    "collapsed": true
   },
   "outputs": [],
   "source": [
    "import tensorflow as tf\n",
    "from tensorflow.examples.tutorials.mnist import input_dataput_data"
   ]
  },
  {
   "cell_type": "code",
   "execution_count": 2,
   "metadata": {},
   "outputs": [
    {
     "name": "stdout",
     "output_type": "stream",
     "text": [
      "Extracting MNIST_data/train-images-idx3-ubyte.gz\n",
      "Extracting MNIST_data/train-labels-idx1-ubyte.gz\n",
      "Extracting MNIST_data/t10k-images-idx3-ubyte.gz\n",
      "Extracting MNIST_data/t10k-labels-idx1-ubyte.gz\n"
     ]
    }
   ],
   "source": [
    "mnist = input_data.read_data_sets('MNIST_data/', one_hot=True)\n",
    "\n",
    "BATCH_SIZE = 100\n",
    "INPUT_MODE = 784\n",
    "OUTPUT_MODE = 10\n",
    "LAYER1_MDOE = 500\n",
    "\n",
    "LEARNING_RATE_BASE = .8\n",
    "LEARNING_RATE_DECAY = .99\n",
    "\n",
    "REGULARIZATION_RATE = 0.0001\n",
    "\n",
    "TRAINING_STEPS = 5000\n",
    "\n",
    "MOVING_AVERAGE_DECAY = .9999\n",
    "\n",
    "def inference(input_tensor, avg_class, weights1,biases1, weights2, biases2):\n",
    "    \n",
    "    if avg_class == None:\n",
    "        layer1 = tf.nn.relu(tf.matmul(input_tensor, weights1) + biases1)\n",
    "        return tf.matmul(layer1, weights2) + biases2\n",
    "    \n",
    "    else:\n",
    "        layer1 = tf.nn.relu(tf.matmul(input_tensor, avg_class.average(weights1)) + avg_class.average(biases1))\n",
    "        return tf.matmul(layer1, avg_class.average(weights2)) + avg_class.average(biases2)"
   ]
  },
  {
   "cell_type": "code",
   "execution_count": 4,
   "metadata": {},
   "outputs": [
    {
     "name": "stdout",
     "output_type": "stream",
     "text": [
      "After 0 training steps, validation accuracy is 0.09640000015497208\n",
      "After 1000 training steps, validation accuracy is 0.9728000164031982\n",
      "After 2000 training steps, validation accuracy is 0.9782000184059143\n",
      "After 3000 training steps, validation accuracy is 0.9801999926567078\n",
      "After 4000 training steps, validation accuracy is 0.9764000177383423\n",
      "after 5000 steps, test accuracy is 0.9825999736785889\n"
     ]
    }
   ],
   "source": [
    "def train(mnist):\n",
    "    x = tf.placeholder(tf.float32, shape=[None, INPUT_MODE],name=\"input_x\")\n",
    "    y_ = tf.placeholder(tf.float32, shape=[None, OUTPUT_MODE],name=\"input_y\")\n",
    "    \n",
    "    weights1 = tf.Variable(tf.truncated_normal(shape=[INPUT_MODE, LAYER1_MDOE], stddev=0.1))\n",
    "    biases1 = tf.Variable(tf.constant(0.1, shape=[LAYER1_MDOE]))\n",
    "    \n",
    "    weights2 = tf.Variable(tf.truncated_normal(shape=[LAYER1_MDOE, OUTPUT_MODE], stddev=0.1))\n",
    "    biases2 = tf.Variable(tf.constant(0.1, shape=[OUTPUT_MODE]))\n",
    "    \n",
    "    y = inference(x, None, weights1=weights1, biases1=biases1, weights2=weights2, biases2=biases2)\n",
    "    \n",
    "    global_step = tf.Variable(0, trainable=False)\n",
    "    \n",
    "    variable_averages = tf.train.ExponentialMovingAverage(MOVING_AVERAGE_DECAY, global_step)\n",
    "    variable_averages_op = variable_averages.apply(tf.trainable_variables())\n",
    "    \n",
    "    average_y = inference(x, variable_averages, weights1=weights1, biases1=biases1, weights2=weights2,biases2=biases2)\n",
    "    \n",
    "    cross_entropy = tf.nn.sparse_softmax_cross_entropy_with_logits(logits=y, labels=tf.arg_max(y_, 1))\n",
    "    cross_entropy_mean = tf.reduce_mean(cross_entropy)\n",
    "    \n",
    "    regularizer = tf.contrib.layers.l2_regularizer(REGULARIZATION_RATE)\n",
    "    regularization = regularizer(weights1) + regularizer(weights2)\n",
    "    \n",
    "    loss = cross_entropy_mean + regularization\n",
    "    \n",
    "    learning_rate = tf.train.exponential_decay(\n",
    "                    LEARNING_RATE_BASE,\n",
    "                    global_step,\n",
    "                    mnist.train.num_examples / BATCH_SIZE,\n",
    "                    LEARNING_RATE_DECAY,\n",
    "                    staircase=True\n",
    "                    )\n",
    "    train_step = tf.train.GradientDescentOptimizer(learning_rate).minimize(loss, global_step=global_step)\n",
    "    \n",
    "    with tf.control_dependencies([train_step, variable_averages_op]):\n",
    "        train_op = tf.no_op(name=\"train\")\n",
    "    \n",
    "    corrent_prediction = tf.equal(tf.argmax(y, 1), tf.argmax(y_, 1))\n",
    "    accuracy = tf.reduce_mean(tf.cast(corrent_prediction, tf.float32))\n",
    "    \n",
    "    with tf.Session() as sess:\n",
    "        init = tf.global_variables_initializer()\n",
    "        sess.run(init)\n",
    "        \n",
    "        validate_feed = {\n",
    "            x:mnist.validation.images,\n",
    "            y_:mnist.validation.labels\n",
    "        }\n",
    "        \n",
    "        test_feed = {\n",
    "            x: mnist.test.images,\n",
    "            y_: mnist.test.labels\n",
    "        }\n",
    "        \n",
    "        \n",
    "        for i in range(TRAINING_STEPS):\n",
    "            if i % 1000 == 0:\n",
    "                validate_acc = sess.run(accuracy, feed_dict=validate_feed)\n",
    "                print(f'After {i} training steps, validation accuracy is {validate_acc}')\n",
    "            \n",
    "            xs, ys = mnist.train.next_batch(BATCH_SIZE)\n",
    "            sess.run(train_op,  feed_dict={x:xs, y_:ys})\n",
    "            \n",
    "        test_acc = sess.run(accuracy, feed_dict=test_feed)\n",
    "        print(f'after {TRAINING_STEPS} steps, test accuracy is {test_acc}')\n",
    "\n",
    "\n",
    "def main(avg=None):\n",
    "    train(mnist)\n",
    "    \n",
    "if __name__ == \"__main__\":\n",
    "    main()"
   ]
  },
  {
   "cell_type": "code",
   "execution_count": null,
   "metadata": {
    "collapsed": true
   },
   "outputs": [],
   "source": []
  }
 ],
 "metadata": {
  "kernelspec": {
   "display_name": "Python 3",
   "language": "python",
   "name": "python3"
  },
  "language_info": {
   "codemirror_mode": {
    "name": "ipython",
    "version": 3
   },
   "file_extension": ".py",
   "mimetype": "text/x-python",
   "name": "python",
   "nbconvert_exporter": "python",
   "pygments_lexer": "ipython3",
   "version": "3.6.2"
  }
 },
 "nbformat": 4,
 "nbformat_minor": 2
}
