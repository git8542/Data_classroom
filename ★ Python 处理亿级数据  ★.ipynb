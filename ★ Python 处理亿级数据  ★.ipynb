{
 "cells": [
  {
   "cell_type": "code",
   "execution_count": 3,
   "metadata": {},
   "outputs": [],
   "source": [
    "import sys\n",
    "# reload(sys)\n",
    "# sys.setdefaultencoding(\"utf-8\")\n",
    "import time\n",
    "import pandas as pd"
   ]
  },
  {
   "cell_type": "code",
   "execution_count": 19,
   "metadata": {},
   "outputs": [
    {
     "name": "stdout",
     "output_type": "stream",
     "text": [
      "Iteration is stopped\n",
      "总耗时:3.3405404090881348    S\n"
     ]
    }
   ],
   "source": [
    "time1 = time.time()\n",
    "reader = pd.read_csv(\"creditcard.csv\", iterator=True)\n",
    "\n",
    "loop = True\n",
    "chunkSize = 10000000\n",
    "chunks = []\n",
    "while loop:\n",
    "    try:\n",
    "        chunk = reader.get_chunk(10000000000)\n",
    "        chunks.append(chunk)\n",
    "    except StopIteration:\n",
    "        loop = False\n",
    "        print(\"Iteration is stopped\")\n",
    "        \n",
    "chunks\n",
    "# df = pd.concat(chunks, ignore_index=True)\n",
    "# print(df.head())\n",
    "time2 = time.time()\n",
    "print(\"总耗时:\" + str(time2 - time1) +   \"    S\")"
   ]
  },
  {
   "cell_type": "code",
   "execution_count": null,
   "metadata": {},
   "outputs": [],
   "source": []
  },
  {
   "cell_type": "code",
   "execution_count": null,
   "metadata": {
    "collapsed": true
   },
   "outputs": [],
   "source": [
    "# import pandas as pd\n",
    "\n",
    "# input = pd.read_csv('input.csv', chunksize=1000000)\n",
    "\n",
    "# for i in input:\n",
    "# \tchunk = dosomethig(input)# 进行一些操作\n",
    "# \tchunk.to_csv('output.csv', mode='a', header=False) # 记得使用header=False不然会重复写入列名\n",
    "\n",
    "# input = pd.read_csv('input.csv', iterator=True)\n",
    "\n",
    "# while loop:\n",
    "#     try:\n",
    "#         chunk = reader.get_chunk(1000000)\n",
    "#         chunk.to_csv('output.csv', mode='a', header=False) # 和上面的代码作用一样只是通过iterator来实现\n",
    "#     except StopIteration:\n",
    "#         break\n"
   ]
  }
 ],
 "metadata": {
  "kernelspec": {
   "display_name": "Python 3",
   "language": "python",
   "name": "python3"
  },
  "language_info": {
   "codemirror_mode": {
    "name": "ipython",
    "version": 3
   },
   "file_extension": ".py",
   "mimetype": "text/x-python",
   "name": "python",
   "nbconvert_exporter": "python",
   "pygments_lexer": "ipython3",
   "version": "3.6.2"
  }
 },
 "nbformat": 4,
 "nbformat_minor": 2
}
