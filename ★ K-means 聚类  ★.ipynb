{
 "cells": [
  {
   "cell_type": "code",
   "execution_count": 1,
   "metadata": {
    "collapsed": true
   },
   "outputs": [],
   "source": [
    "import pandas as pd\n"
   ]
  },
  {
   "cell_type": "code",
   "execution_count": 3,
   "metadata": {},
   "outputs": [
    {
     "data": {
      "text/html": [
       "<div>\n",
       "<style>\n",
       "    .dataframe thead tr:only-child th {\n",
       "        text-align: right;\n",
       "    }\n",
       "\n",
       "    .dataframe thead th {\n",
       "        text-align: left;\n",
       "    }\n",
       "\n",
       "    .dataframe tbody tr th {\n",
       "        vertical-align: top;\n",
       "    }\n",
       "</style>\n",
       "<table border=\"1\" class=\"dataframe\">\n",
       "  <thead>\n",
       "    <tr style=\"text-align: right;\">\n",
       "      <th></th>\n",
       "      <th>assists_per_minute</th>\n",
       "      <th>height</th>\n",
       "      <th>time_played</th>\n",
       "      <th>age</th>\n",
       "      <th>points_per_minute</th>\n",
       "    </tr>\n",
       "  </thead>\n",
       "  <tbody>\n",
       "    <tr>\n",
       "      <th>0</th>\n",
       "      <td>0.0888</td>\n",
       "      <td>201</td>\n",
       "      <td>36.02</td>\n",
       "      <td>28</td>\n",
       "      <td>0.5885</td>\n",
       "    </tr>\n",
       "    <tr>\n",
       "      <th>1</th>\n",
       "      <td>0.1399</td>\n",
       "      <td>198</td>\n",
       "      <td>39.32</td>\n",
       "      <td>30</td>\n",
       "      <td>0.8291</td>\n",
       "    </tr>\n",
       "    <tr>\n",
       "      <th>2</th>\n",
       "      <td>0.0747</td>\n",
       "      <td>198</td>\n",
       "      <td>38.80</td>\n",
       "      <td>26</td>\n",
       "      <td>0.4974</td>\n",
       "    </tr>\n",
       "    <tr>\n",
       "      <th>3</th>\n",
       "      <td>0.0983</td>\n",
       "      <td>191</td>\n",
       "      <td>40.71</td>\n",
       "      <td>30</td>\n",
       "      <td>0.5772</td>\n",
       "    </tr>\n",
       "    <tr>\n",
       "      <th>4</th>\n",
       "      <td>0.1276</td>\n",
       "      <td>196</td>\n",
       "      <td>38.40</td>\n",
       "      <td>28</td>\n",
       "      <td>0.5703</td>\n",
       "    </tr>\n",
       "    <tr>\n",
       "      <th>5</th>\n",
       "      <td>0.1671</td>\n",
       "      <td>201</td>\n",
       "      <td>34.10</td>\n",
       "      <td>31</td>\n",
       "      <td>0.5835</td>\n",
       "    </tr>\n",
       "    <tr>\n",
       "      <th>6</th>\n",
       "      <td>0.1906</td>\n",
       "      <td>193</td>\n",
       "      <td>36.20</td>\n",
       "      <td>30</td>\n",
       "      <td>0.5276</td>\n",
       "    </tr>\n",
       "    <tr>\n",
       "      <th>7</th>\n",
       "      <td>0.1061</td>\n",
       "      <td>191</td>\n",
       "      <td>36.75</td>\n",
       "      <td>27</td>\n",
       "      <td>0.5523</td>\n",
       "    </tr>\n",
       "    <tr>\n",
       "      <th>8</th>\n",
       "      <td>0.2446</td>\n",
       "      <td>185</td>\n",
       "      <td>38.43</td>\n",
       "      <td>29</td>\n",
       "      <td>0.4007</td>\n",
       "    </tr>\n",
       "    <tr>\n",
       "      <th>9</th>\n",
       "      <td>0.1670</td>\n",
       "      <td>203</td>\n",
       "      <td>33.54</td>\n",
       "      <td>24</td>\n",
       "      <td>0.4770</td>\n",
       "    </tr>\n",
       "    <tr>\n",
       "      <th>10</th>\n",
       "      <td>0.2485</td>\n",
       "      <td>188</td>\n",
       "      <td>35.01</td>\n",
       "      <td>27</td>\n",
       "      <td>0.4313</td>\n",
       "    </tr>\n",
       "    <tr>\n",
       "      <th>11</th>\n",
       "      <td>0.1227</td>\n",
       "      <td>198</td>\n",
       "      <td>36.67</td>\n",
       "      <td>29</td>\n",
       "      <td>0.4909</td>\n",
       "    </tr>\n",
       "    <tr>\n",
       "      <th>12</th>\n",
       "      <td>0.1240</td>\n",
       "      <td>185</td>\n",
       "      <td>33.88</td>\n",
       "      <td>24</td>\n",
       "      <td>0.5668</td>\n",
       "    </tr>\n",
       "    <tr>\n",
       "      <th>13</th>\n",
       "      <td>0.1461</td>\n",
       "      <td>191</td>\n",
       "      <td>35.59</td>\n",
       "      <td>30</td>\n",
       "      <td>0.5113</td>\n",
       "    </tr>\n",
       "    <tr>\n",
       "      <th>14</th>\n",
       "      <td>0.2315</td>\n",
       "      <td>191</td>\n",
       "      <td>38.01</td>\n",
       "      <td>28</td>\n",
       "      <td>0.3788</td>\n",
       "    </tr>\n",
       "    <tr>\n",
       "      <th>15</th>\n",
       "      <td>0.0494</td>\n",
       "      <td>193</td>\n",
       "      <td>32.38</td>\n",
       "      <td>32</td>\n",
       "      <td>0.5590</td>\n",
       "    </tr>\n",
       "    <tr>\n",
       "      <th>16</th>\n",
       "      <td>0.1107</td>\n",
       "      <td>196</td>\n",
       "      <td>35.22</td>\n",
       "      <td>25</td>\n",
       "      <td>0.4799</td>\n",
       "    </tr>\n",
       "    <tr>\n",
       "      <th>17</th>\n",
       "      <td>0.2521</td>\n",
       "      <td>183</td>\n",
       "      <td>31.73</td>\n",
       "      <td>29</td>\n",
       "      <td>0.5735</td>\n",
       "    </tr>\n",
       "    <tr>\n",
       "      <th>18</th>\n",
       "      <td>0.1007</td>\n",
       "      <td>193</td>\n",
       "      <td>28.81</td>\n",
       "      <td>34</td>\n",
       "      <td>0.6318</td>\n",
       "    </tr>\n",
       "    <tr>\n",
       "      <th>19</th>\n",
       "      <td>0.1067</td>\n",
       "      <td>196</td>\n",
       "      <td>35.60</td>\n",
       "      <td>23</td>\n",
       "      <td>0.4326</td>\n",
       "    </tr>\n",
       "    <tr>\n",
       "      <th>20</th>\n",
       "      <td>0.1956</td>\n",
       "      <td>188</td>\n",
       "      <td>35.28</td>\n",
       "      <td>32</td>\n",
       "      <td>0.4280</td>\n",
       "    </tr>\n",
       "  </tbody>\n",
       "</table>\n",
       "</div>"
      ],
      "text/plain": [
       "    assists_per_minute  height  time_played  age  points_per_minute\n",
       "0               0.0888     201        36.02   28             0.5885\n",
       "1               0.1399     198        39.32   30             0.8291\n",
       "2               0.0747     198        38.80   26             0.4974\n",
       "3               0.0983     191        40.71   30             0.5772\n",
       "4               0.1276     196        38.40   28             0.5703\n",
       "5               0.1671     201        34.10   31             0.5835\n",
       "6               0.1906     193        36.20   30             0.5276\n",
       "7               0.1061     191        36.75   27             0.5523\n",
       "8               0.2446     185        38.43   29             0.4007\n",
       "9               0.1670     203        33.54   24             0.4770\n",
       "10              0.2485     188        35.01   27             0.4313\n",
       "11              0.1227     198        36.67   29             0.4909\n",
       "12              0.1240     185        33.88   24             0.5668\n",
       "13              0.1461     191        35.59   30             0.5113\n",
       "14              0.2315     191        38.01   28             0.3788\n",
       "15              0.0494     193        32.38   32             0.5590\n",
       "16              0.1107     196        35.22   25             0.4799\n",
       "17              0.2521     183        31.73   29             0.5735\n",
       "18              0.1007     193        28.81   34             0.6318\n",
       "19              0.1067     196        35.60   23             0.4326\n",
       "20              0.1956     188        35.28   32             0.4280"
      ]
     },
     "execution_count": 3,
     "metadata": {},
     "output_type": "execute_result"
    }
   ],
   "source": [
    "data = pd.read_clipboard()\n",
    "data"
   ]
  },
  {
   "cell_type": "code",
   "execution_count": 4,
   "metadata": {},
   "outputs": [
    {
     "data": {
      "text/plain": [
       "Index(['assists_per_minute', 'height', 'time_played', 'age',\n",
       "       'points_per_minute'],\n",
       "      dtype='object')"
      ]
     },
     "execution_count": 4,
     "metadata": {},
     "output_type": "execute_result"
    }
   ],
   "source": [
    "data.columns"
   ]
  },
  {
   "cell_type": "code",
   "execution_count": 12,
   "metadata": {},
   "outputs": [
    {
     "data": {
      "text/plain": [
       "[[0.0888, 0.5885],\n",
       " [0.1399, 0.8291],\n",
       " [0.0747, 0.4974],\n",
       " [0.0983, 0.5772],\n",
       " [0.1276, 0.5703],\n",
       " [0.1671, 0.5835],\n",
       " [0.1906, 0.5276],\n",
       " [0.1061, 0.5523],\n",
       " [0.2446, 0.4007],\n",
       " [0.167, 0.477],\n",
       " [0.2485, 0.4313],\n",
       " [0.1227, 0.4909],\n",
       " [0.124, 0.5668],\n",
       " [0.1461, 0.5113],\n",
       " [0.2315, 0.3788],\n",
       " [0.0494, 0.559],\n",
       " [0.1107, 0.4799],\n",
       " [0.2521, 0.5735],\n",
       " [0.1007, 0.6318],\n",
       " [0.1067, 0.4326],\n",
       " [0.1956, 0.428]]"
      ]
     },
     "execution_count": 12,
     "metadata": {},
     "output_type": "execute_result"
    }
   ],
   "source": [
    "X = data[[\"assists_per_minute\", \"points_per_minute\"]]\n",
    "X = X.values.tolist()\n",
    "X"
   ]
  },
  {
   "cell_type": "code",
   "execution_count": 14,
   "metadata": {
    "collapsed": true
   },
   "outputs": [],
   "source": [
    "from sklearn.cluster import KMeans\n",
    "from sklearn.cluster import Birch"
   ]
  },
  {
   "cell_type": "code",
   "execution_count": 16,
   "metadata": {},
   "outputs": [
    {
     "data": {
      "text/plain": [
       "array([1, 2, 1, 1, 1, 1, 1, 1, 0, 0, 0, 1, 1, 1, 0, 1, 1, 1, 1, 0, 0])"
      ]
     },
     "execution_count": 16,
     "metadata": {},
     "output_type": "execute_result"
    }
   ],
   "source": [
    "clf = KMeans(n_clusters=3)\n",
    "y_pred = clf.fit_predict(X)\n",
    "y_pred"
   ]
  },
  {
   "cell_type": "code",
   "execution_count": 17,
   "metadata": {
    "collapsed": true
   },
   "outputs": [],
   "source": [
    "import matplotlib.pyplot as plt\n",
    "import numpy as np"
   ]
  },
  {
   "cell_type": "code",
   "execution_count": 22,
   "metadata": {},
   "outputs": [
    {
     "data": {
      "image/png": "[encoded data removed]",
      "text/plain": [
       "<matplotlib.figure.Figure at 0x184dc23fe48>"
      ]
     },
     "metadata": {},
     "output_type": "display_data"
    }
   ],
   "source": [
    "x = [n[0] for n in X]\n",
    "y = [n[1] for n in X]\n",
    "plt.scatter(x, y, c=y_pred, marker=\"o\")\n",
    "plt.title(\"Kmeans-basketball-data\")\n",
    "plt.xlabel(\"assists_per_minute\")\n",
    "plt.ylabel(\"points_per_minute\")\n",
    "plt.legend([\"A\",\"B\",\"C\"])\n",
    "plt.show()"
   ]
  },
  {
   "cell_type": "code",
   "execution_count": null,
   "metadata": {
    "collapsed": true
   },
   "outputs": [],
   "source": []
  }
 ],
 "metadata": {
  "kernelspec": {
   "display_name": "Python 3",
   "language": "python",
   "name": "python3"
  },
  "language_info": {
   "codemirror_mode": {
    "name": "ipython",
    "version": 3
   },
   "file_extension": ".py",
   "mimetype": "text/x-python",
   "name": "python",
   "nbconvert_exporter": "python",
   "pygments_lexer": "ipython3",
   "version": "3.6.2"
  }
 },
 "nbformat": 4,
 "nbformat_minor": 2
}
