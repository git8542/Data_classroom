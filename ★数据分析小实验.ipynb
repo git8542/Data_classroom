{
 "cells": [
  {
   "cell_type": "markdown",
   "metadata": {},
   "source": [
    "### https://zhuanlan.zhihu.com/p/32983898"
   ]
  },
  {
   "cell_type": "code",
   "execution_count": 3,
   "metadata": {},
   "outputs": [],
   "source": [
    "# import numpy as np\n",
    "# import pandas as pd\n",
    "# import matplotlib.pyplot as plt\n",
    "# df = pd.read_json('/Users/zhaoluyang/Desktop/Python_全国JSON.json')\n",
    "\n",
    "# #查看df的信息\n",
    "# df.info()\n",
    "# df.columns "
   ]
  },
  {
   "cell_type": "code",
   "execution_count": null,
   "metadata": {
    "collapsed": true
   },
   "outputs": [],
   "source": []
  },
  {
   "cell_type": "code",
   "execution_count": 4,
   "metadata": {
    "collapsed": true
   },
   "outputs": [],
   "source": [
    "# import re\n",
    "# df[\"bottom\"] = df[\"top\"] = df[\"average\"] = df[\"职位月薪\"]\n",
    "# pattern = re.compile(\"([0-9]+)\")\n",
    "# q1=q2=q3=q4=0\n",
    "\n",
    "\n",
    "# for i in range(len(df[\"职位月薪\"])):\n",
    "#     item = df[\"职位月薪\"].iloc[i].strip()\n",
    "#     result = re.findall(pattern, item)\n",
    "#     try:\n",
    "#         if result:\n",
    "#             try:\n",
    "#                 df[\"bottom\"].iloc[i], df[\"top\"].iloc[i] = result[0], result[1]\n",
    "#                 df['average'].iloc[i] = str((int(result[0]) + int(result[1]))/2)\n",
    "#                 q1 += 1\n",
    "            \n",
    "#             except:\n",
    "#                 df[\"bottom\"].iloc[i] = df[\"top\"].iloc[i] = result[0]\n",
    "#                 df[\"average\"].iloc[i] = str((int(result[0])+int(result[0]))/2)\n",
    "#                 q2 +=1\n",
    "#         else:\n",
    "#             df['bottom'].iloc[i] = df['top'].iloc[i] = df['average'].iloc[i] = item\n",
    "#             q3+=1\n",
    "            \n",
    "#     except Exception as e:\n",
    "#     q4+=1        "
   ]
  },
  {
   "cell_type": "code",
   "execution_count": 5,
   "metadata": {
    "collapsed": true
   },
   "outputs": [],
   "source": [
    "# df[\"工作城市\"] = df[\"工作地点\"]\n",
    "# pattern2 = re.compile(\"(.*?)(\\-)\")\n",
    "# df_city = df[\"工作地点\"].copy()\n",
    "\n",
    "# for i in range(len(df_city)):\n",
    "#     item = df_city.iloc[i].strip()\n",
    "#     result = re.search(pattern2, item)\n",
    "    \n",
    "#     if result:\n",
    "#         df_city.iloc[i] = result.group(1).strip()\n",
    "    \n",
    "#     else:\n",
    "#         df_city.iloc[i] = item.strip()  "
   ]
  },
  {
   "cell_type": "code",
   "execution_count": 6,
   "metadata": {
    "collapsed": true
   },
   "outputs": [],
   "source": [
    "# #将原来df['工作城市']列中选定的字段替换成空值nan\n",
    "# df_工作城市 = df['工作城市'].replace(['found no element','松原','辽源','珲春','白山','公主岭','白城','延边','四平','通化'],np.nan)\n",
    "\n",
    "# #查看替换后各个城市职位计数\n",
    "# df_工作城市.value_counts()\n",
    "\n",
    "# #查看替换后城市所包含的职位总数；查看替换后的城市数量，是否等于30.\n",
    "# df_工作城市\n",
    "\n",
    "# #将新的[df_工作城市]列添加到df表中，留作备用\n",
    "# df['df_工作城市'] = df_工作城市"
   ]
  },
  {
   "cell_type": "code",
   "execution_count": null,
   "metadata": {
    "collapsed": true
   },
   "outputs": [],
   "source": []
  }
 ],
 "metadata": {
  "kernelspec": {
   "display_name": "Python 3",
   "language": "python",
   "name": "python3"
  },
  "language_info": {
   "codemirror_mode": {
    "name": "ipython",
    "version": 3
   },
   "file_extension": ".py",
   "mimetype": "text/x-python",
   "name": "python",
   "nbconvert_exporter": "python",
   "pygments_lexer": "ipython3",
   "version": "3.6.2"
  }
 },
 "nbformat": 4,
 "nbformat_minor": 2
}
